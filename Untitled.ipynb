{
 "cells": [
  {
   "cell_type": "code",
   "execution_count": 1,
   "id": "fa6855de-d856-42d8-b411-186fb3205809",
   "metadata": {},
   "outputs": [],
   "source": [
    "import pandas as pd"
   ]
  },
  {
   "cell_type": "markdown",
   "id": "c76e8c59-01ea-4b1e-b8a1-f6d126f67252",
   "metadata": {},
   "source": [
    "Parsing the json, each number is a region and within each region there are multiple fields. Can begin with danger rating, confidence and date. \n",
    "There will need to be an API request for each date in the series. this can start with a small sample and then and build it up. will need to be wary of changes in report structure with time"
   ]
  },
  {
   "cell_type": "code",
   "execution_count": null,
   "id": "7bb1700a-15ed-4f1d-914d-f7893435a4e1",
   "metadata": {},
   "outputs": [],
   "source": []
  }
 ],
 "metadata": {
  "kernelspec": {
   "display_name": "Python 3 (ipykernel)",
   "language": "python",
   "name": "python3"
  },
  "language_info": {
   "codemirror_mode": {
    "name": "ipython",
    "version": 3
   },
   "file_extension": ".py",
   "mimetype": "text/x-python",
   "name": "python",
   "nbconvert_exporter": "python",
   "pygments_lexer": "ipython3",
   "version": "3.9.12"
  }
 },
 "nbformat": 4,
 "nbformat_minor": 5
}
