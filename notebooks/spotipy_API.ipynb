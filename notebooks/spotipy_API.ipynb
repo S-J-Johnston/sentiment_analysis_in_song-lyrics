{
 "cells": [
  {
   "cell_type": "code",
   "execution_count": 20,
   "id": "80ca9f4f-0a26-4e3a-a587-0bfc122b58f3",
   "metadata": {},
   "outputs": [],
   "source": [
    "import pandas as pd\n",
    "import numpy as np\n",
    "import seaborn as sns\n",
    "import matplotlib.pyplot as plt\n",
    "from tqdm import tqdm\n",
    "\n",
    "import spotipy\n",
    "from spotipy.oauth2 import SpotifyClientCredentials\n",
    "\n",
    "plt.style.use('ggplot')"
   ]
  },
  {
   "cell_type": "code",
   "execution_count": 59,
   "id": "cd2e14a2-20d1-43dc-b505-7f3acfe34ead",
   "metadata": {},
   "outputs": [],
   "source": [
    "url = \"https://raw.githubusercontent.com/HipsterVizNinja/random-data/main/Music/hot-100/Hot%20100.csv\"\n",
    "raw_df = pd.read_csv(url)"
   ]
  },
  {
   "cell_type": "code",
   "execution_count": 65,
   "id": "959cc325-39ba-4fe1-8df6-1f05223080bd",
   "metadata": {},
   "outputs": [],
   "source": [
    "df_singles = raw_df.groupby('song_id').max()"
   ]
  },
  {
   "cell_type": "code",
   "execution_count": 98,
   "id": "05e87142-3cb2-46ca-b25b-7c06e2098c2b",
   "metadata": {},
   "outputs": [
    {
     "data": {
      "text/plain": [
       "(30444, 12)"
      ]
     },
     "execution_count": 98,
     "metadata": {},
     "output_type": "execute_result"
    }
   ],
   "source": [
    "df_singles.shape"
   ]
  },
  {
   "cell_type": "code",
   "execution_count": 102,
   "id": "8a82ea5c-cf2a-4e16-b901-732e449b9402",
   "metadata": {},
   "outputs": [],
   "source": [
    "df_artists = df_singles.drop_duplicates(subset=['performer'])"
   ]
  },
  {
   "cell_type": "code",
   "execution_count": 104,
   "id": "5f70e557-2bab-4db8-a0c1-89c6dfd0ab48",
   "metadata": {},
   "outputs": [
    {
     "data": {
      "text/plain": [
       "(10499, 12)"
      ]
     },
     "execution_count": 104,
     "metadata": {},
     "output_type": "execute_result"
    }
   ],
   "source": [
    "df_artists.shape"
   ]
  },
  {
   "cell_type": "code",
   "execution_count": 66,
   "id": "655d1e46-d4c3-4a1e-8a4b-0729eae77c3c",
   "metadata": {},
   "outputs": [],
   "source": [
    "df_singles.sort_values('chart_date', inplace = True)"
   ]
  },
  {
   "cell_type": "code",
   "execution_count": 67,
   "id": "a255c9d5-0985-44b8-8e9a-1fdc82317977",
   "metadata": {},
   "outputs": [],
   "source": [
    "df_sample = df_singles.tail(50)"
   ]
  },
  {
   "cell_type": "code",
   "execution_count": 68,
   "id": "2c11bc93-8dc4-4175-b2c7-4fa5dc5e6915",
   "metadata": {},
   "outputs": [
    {
     "data": {
      "text/plain": [
       "(50, 12)"
      ]
     },
     "execution_count": 68,
     "metadata": {},
     "output_type": "execute_result"
    }
   ],
   "source": [
    "df_sample.shape"
   ]
  },
  {
   "cell_type": "code",
   "execution_count": 95,
   "id": "9afc5649-f41b-49ef-a252-ee34c32a7bf3",
   "metadata": {
    "tags": []
   },
   "outputs": [
    {
     "data": {
      "text/html": [
       "<div>\n",
       "<style scoped>\n",
       "    .dataframe tbody tr th:only-of-type {\n",
       "        vertical-align: middle;\n",
       "    }\n",
       "\n",
       "    .dataframe tbody tr th {\n",
       "        vertical-align: top;\n",
       "    }\n",
       "\n",
       "    .dataframe thead th {\n",
       "        text-align: right;\n",
       "    }\n",
       "</style>\n",
       "<table border=\"1\" class=\"dataframe\">\n",
       "  <thead>\n",
       "    <tr style=\"text-align: right;\">\n",
       "      <th></th>\n",
       "      <th>chart_position</th>\n",
       "      <th>chart_date</th>\n",
       "      <th>song</th>\n",
       "      <th>performer</th>\n",
       "      <th>instance</th>\n",
       "      <th>time_on_chart</th>\n",
       "      <th>consecutive_weeks</th>\n",
       "      <th>previous_week</th>\n",
       "      <th>peak_position</th>\n",
       "      <th>worst_position</th>\n",
       "      <th>chart_debut</th>\n",
       "      <th>chart_url</th>\n",
       "    </tr>\n",
       "    <tr>\n",
       "      <th>song_id</th>\n",
       "      <th></th>\n",
       "      <th></th>\n",
       "      <th></th>\n",
       "      <th></th>\n",
       "      <th></th>\n",
       "      <th></th>\n",
       "      <th></th>\n",
       "      <th></th>\n",
       "      <th></th>\n",
       "      <th></th>\n",
       "      <th></th>\n",
       "      <th></th>\n",
       "    </tr>\n",
       "  </thead>\n",
       "  <tbody>\n",
       "    <tr>\n",
       "      <th>Deck The HallsNat King Cole</th>\n",
       "      <td>47</td>\n",
       "      <td>2023-01-07</td>\n",
       "      <td>Deck The Halls</td>\n",
       "      <td>Nat King Cole</td>\n",
       "      <td>3.0</td>\n",
       "      <td>8</td>\n",
       "      <td>4.0</td>\n",
       "      <td>47.0</td>\n",
       "      <td>47</td>\n",
       "      <td>47</td>\n",
       "      <td>2020-12-26</td>\n",
       "      <td>https://www.billboard.com/charts/hot-100/2023-...</td>\n",
       "    </tr>\n",
       "    <tr>\n",
       "      <th>Something In The OrangeZach Bryan</th>\n",
       "      <td>77</td>\n",
       "      <td>2023-01-07</td>\n",
       "      <td>Something In The Orange</td>\n",
       "      <td>Zach Bryan</td>\n",
       "      <td>1.0</td>\n",
       "      <td>36</td>\n",
       "      <td>35.0</td>\n",
       "      <td>77.0</td>\n",
       "      <td>55</td>\n",
       "      <td>77</td>\n",
       "      <td>2022-05-07</td>\n",
       "      <td>https://www.billboard.com/charts/hot-100/2023-...</td>\n",
       "    </tr>\n",
       "    <tr>\n",
       "      <th>Someday At ChristmasLizzo</th>\n",
       "      <td>96</td>\n",
       "      <td>2023-01-07</td>\n",
       "      <td>Someday At Christmas</td>\n",
       "      <td>Lizzo</td>\n",
       "      <td>1.0</td>\n",
       "      <td>5</td>\n",
       "      <td>4.0</td>\n",
       "      <td>96.0</td>\n",
       "      <td>96</td>\n",
       "      <td>96</td>\n",
       "      <td>2022-12-10</td>\n",
       "      <td>https://www.billboard.com/charts/hot-100/2023-...</td>\n",
       "    </tr>\n",
       "    <tr>\n",
       "      <th>You ProofMorgan Wallen</th>\n",
       "      <td>49</td>\n",
       "      <td>2023-01-07</td>\n",
       "      <td>You Proof</td>\n",
       "      <td>Morgan Wallen</td>\n",
       "      <td>1.0</td>\n",
       "      <td>33</td>\n",
       "      <td>32.0</td>\n",
       "      <td>49.0</td>\n",
       "      <td>6</td>\n",
       "      <td>49</td>\n",
       "      <td>2022-05-28</td>\n",
       "      <td>https://www.billboard.com/charts/hot-100/2023-...</td>\n",
       "    </tr>\n",
       "    <tr>\n",
       "      <th>SnoozeSZA</th>\n",
       "      <td>74</td>\n",
       "      <td>2023-01-07</td>\n",
       "      <td>Snooze</td>\n",
       "      <td>SZA</td>\n",
       "      <td>1.0</td>\n",
       "      <td>3</td>\n",
       "      <td>2.0</td>\n",
       "      <td>61.0</td>\n",
       "      <td>29</td>\n",
       "      <td>74</td>\n",
       "      <td>2022-12-24</td>\n",
       "      <td>https://www.billboard.com/charts/hot-100/2023-...</td>\n",
       "    </tr>\n",
       "    <tr>\n",
       "      <th>Bebe DameFuerza Regida X Grupo Frontera</th>\n",
       "      <td>91</td>\n",
       "      <td>2023-01-07</td>\n",
       "      <td>Bebe Dame</td>\n",
       "      <td>Fuerza Regida X Grupo Frontera</td>\n",
       "      <td>1.0</td>\n",
       "      <td>1</td>\n",
       "      <td>NaN</td>\n",
       "      <td>NaN</td>\n",
       "      <td>91</td>\n",
       "      <td>91</td>\n",
       "      <td>2023-01-07</td>\n",
       "      <td>https://www.billboard.com/charts/hot-100/2023-...</td>\n",
       "    </tr>\n",
       "  </tbody>\n",
       "</table>\n",
       "</div>"
      ],
      "text/plain": [
       "                                         chart_position  chart_date  \\\n",
       "song_id                                                               \n",
       "Deck The HallsNat King Cole                          47  2023-01-07   \n",
       "Something In The OrangeZach Bryan                    77  2023-01-07   \n",
       "Someday At ChristmasLizzo                            96  2023-01-07   \n",
       "You ProofMorgan Wallen                               49  2023-01-07   \n",
       "SnoozeSZA                                            74  2023-01-07   \n",
       "Bebe DameFuerza Regida X Grupo Frontera              91  2023-01-07   \n",
       "\n",
       "                                                            song  \\\n",
       "song_id                                                            \n",
       "Deck The HallsNat King Cole                       Deck The Halls   \n",
       "Something In The OrangeZach Bryan        Something In The Orange   \n",
       "Someday At ChristmasLizzo                   Someday At Christmas   \n",
       "You ProofMorgan Wallen                                 You Proof   \n",
       "SnoozeSZA                                                 Snooze   \n",
       "Bebe DameFuerza Regida X Grupo Frontera                Bebe Dame   \n",
       "\n",
       "                                                              performer  \\\n",
       "song_id                                                                   \n",
       "Deck The HallsNat King Cole                               Nat King Cole   \n",
       "Something In The OrangeZach Bryan                            Zach Bryan   \n",
       "Someday At ChristmasLizzo                                         Lizzo   \n",
       "You ProofMorgan Wallen                                    Morgan Wallen   \n",
       "SnoozeSZA                                                           SZA   \n",
       "Bebe DameFuerza Regida X Grupo Frontera  Fuerza Regida X Grupo Frontera   \n",
       "\n",
       "                                         instance  time_on_chart  \\\n",
       "song_id                                                            \n",
       "Deck The HallsNat King Cole                   3.0              8   \n",
       "Something In The OrangeZach Bryan             1.0             36   \n",
       "Someday At ChristmasLizzo                     1.0              5   \n",
       "You ProofMorgan Wallen                        1.0             33   \n",
       "SnoozeSZA                                     1.0              3   \n",
       "Bebe DameFuerza Regida X Grupo Frontera       1.0              1   \n",
       "\n",
       "                                         consecutive_weeks  previous_week  \\\n",
       "song_id                                                                     \n",
       "Deck The HallsNat King Cole                            4.0           47.0   \n",
       "Something In The OrangeZach Bryan                     35.0           77.0   \n",
       "Someday At ChristmasLizzo                              4.0           96.0   \n",
       "You ProofMorgan Wallen                                32.0           49.0   \n",
       "SnoozeSZA                                              2.0           61.0   \n",
       "Bebe DameFuerza Regida X Grupo Frontera                NaN            NaN   \n",
       "\n",
       "                                         peak_position  worst_position  \\\n",
       "song_id                                                                  \n",
       "Deck The HallsNat King Cole                         47              47   \n",
       "Something In The OrangeZach Bryan                   55              77   \n",
       "Someday At ChristmasLizzo                           96              96   \n",
       "You ProofMorgan Wallen                               6              49   \n",
       "SnoozeSZA                                           29              74   \n",
       "Bebe DameFuerza Regida X Grupo Frontera             91              91   \n",
       "\n",
       "                                        chart_debut  \\\n",
       "song_id                                               \n",
       "Deck The HallsNat King Cole              2020-12-26   \n",
       "Something In The OrangeZach Bryan        2022-05-07   \n",
       "Someday At ChristmasLizzo                2022-12-10   \n",
       "You ProofMorgan Wallen                   2022-05-28   \n",
       "SnoozeSZA                                2022-12-24   \n",
       "Bebe DameFuerza Regida X Grupo Frontera  2023-01-07   \n",
       "\n",
       "                                                                                 chart_url  \n",
       "song_id                                                                                     \n",
       "Deck The HallsNat King Cole              https://www.billboard.com/charts/hot-100/2023-...  \n",
       "Something In The OrangeZach Bryan        https://www.billboard.com/charts/hot-100/2023-...  \n",
       "Someday At ChristmasLizzo                https://www.billboard.com/charts/hot-100/2023-...  \n",
       "You ProofMorgan Wallen                   https://www.billboard.com/charts/hot-100/2023-...  \n",
       "SnoozeSZA                                https://www.billboard.com/charts/hot-100/2023-...  \n",
       "Bebe DameFuerza Regida X Grupo Frontera  https://www.billboard.com/charts/hot-100/2023-...  "
      ]
     },
     "execution_count": 95,
     "metadata": {},
     "output_type": "execute_result"
    }
   ],
   "source": [
    "df_sample.head(6)"
   ]
  },
  {
   "cell_type": "code",
   "execution_count": 49,
   "id": "09e172f3-19da-4ee3-883a-d1efe3dcfa10",
   "metadata": {},
   "outputs": [],
   "source": [
    "import spotipy\n",
    "from spotipy.oauth2 import SpotifyClientCredentials\n",
    "\n",
    "sp = spotipy.Spotify(auth_manager=SpotifyClientCredentials(client_id=\"f4a75b5cb56c4a8081a21ae8ff8508d1\",\n",
    "                                                           client_secret=\"bbd13ee6b5594135a0e8b8ca3b0b6c01\"))\n",
    "\n",
    "results = sp.search(q='artist:Kendrick Lamar', limit=1)"
   ]
  },
  {
   "cell_type": "code",
   "execution_count": 50,
   "id": "15af0121-48d4-453c-9502-d7a71cab44fa",
   "metadata": {},
   "outputs": [
    {
     "data": {
      "text/plain": [
       "'2YZyLoL8N0Wb9xBt1NhZWg'"
      ]
     },
     "execution_count": 50,
     "metadata": {},
     "output_type": "execute_result"
    }
   ],
   "source": [
    "results['tracks']['items'][0]['artists'][0]['id']"
   ]
  },
  {
   "cell_type": "code",
   "execution_count": 53,
   "id": "d3e45bcb-20cb-401a-9e7e-e40e12a4b1de",
   "metadata": {},
   "outputs": [],
   "source": [
    "results = sp.search(q='Stereophonics', limit=1)"
   ]
  },
  {
   "cell_type": "code",
   "execution_count": 54,
   "id": "2de910c0-a24c-4104-9b50-3fc6b6deaa96",
   "metadata": {},
   "outputs": [
    {
     "data": {
      "text/plain": [
       "'21UJ7PRWb3Etgsu99f8yo8'"
      ]
     },
     "execution_count": 54,
     "metadata": {},
     "output_type": "execute_result"
    }
   ],
   "source": [
    "results['tracks']['items'][0]['artists'][0]['id']"
   ]
  },
  {
   "cell_type": "code",
   "execution_count": 75,
   "id": "ebdca9b6-6b36-4bfe-8262-324eae9598a2",
   "metadata": {},
   "outputs": [],
   "source": [
    "def spotify_artist_id(artist):\n",
    "    sp = spotipy.Spotify(auth_manager=SpotifyClientCredentials(client_id=\"f4a75b5cb56c4a8081a21ae8ff8508d1\",\n",
    "                                                           client_secret=\"bbd13ee6b5594135a0e8b8ca3b0b6c01\"))\n",
    "    query = 'artist:'+ artist\n",
    "    response = sp.search(q=query, limit=1)\n",
    "    artist_id =  response['tracks']['items'][0]['artists'][0]['id']\n",
    "    return artist_id"
   ]
  },
  {
   "cell_type": "code",
   "execution_count": 105,
   "id": "c0d2af5f-9a85-4bf3-aa01-88c1995a53a7",
   "metadata": {},
   "outputs": [
    {
     "name": "stderr",
     "output_type": "stream",
     "text": [
      "10499it [30:21,  5.76it/s]                   \n"
     ]
    }
   ],
   "source": [
    "res = {}\n",
    "exceptions = []\n",
    "\n",
    "for i, row in tqdm(df_artists.iterrows(), total=1):\n",
    "    try:\n",
    "        artist = row['performer']\n",
    "        id_result = spotify_artist_id(artist)\n",
    "        res[artist] = id_result\n",
    "    except:\n",
    "        exceptions.append(artist)"
   ]
  },
  {
   "cell_type": "code",
   "execution_count": null,
   "id": "feda929b-149f-4055-8c30-0e2a0878bd61",
   "metadata": {},
   "outputs": [],
   "source": []
  },
  {
   "cell_type": "code",
   "execution_count": 106,
   "id": "9f17b687-9c03-4f3b-95bd-3ca4088a4c1e",
   "metadata": {},
   "outputs": [
    {
     "data": {
      "text/plain": [
       "3384"
      ]
     },
     "execution_count": 106,
     "metadata": {},
     "output_type": "execute_result"
    }
   ],
   "source": [
    "len(exceptions)"
   ]
  },
  {
   "cell_type": "code",
   "execution_count": 107,
   "id": "0abd1e34-fdc0-4176-b945-3b27bcc3eb67",
   "metadata": {},
   "outputs": [
    {
     "data": {
      "text/plain": [
       "7115"
      ]
     },
     "execution_count": 107,
     "metadata": {},
     "output_type": "execute_result"
    }
   ],
   "source": [
    "len(res)"
   ]
  },
  {
   "cell_type": "code",
   "execution_count": 113,
   "id": "093bb580-c8a0-4c19-9a8b-30a4d81d930d",
   "metadata": {},
   "outputs": [],
   "source": [
    "artist_ids = pd.DataFrame.from_dict(res, orient='index').reset_index()"
   ]
  },
  {
   "cell_type": "code",
   "execution_count": 143,
   "id": "cf2fb1ec-11ad-4d69-bc08-ef6695cf53ff",
   "metadata": {},
   "outputs": [
    {
     "data": {
      "text/html": [
       "<div>\n",
       "<style scoped>\n",
       "    .dataframe tbody tr th:only-of-type {\n",
       "        vertical-align: middle;\n",
       "    }\n",
       "\n",
       "    .dataframe tbody tr th {\n",
       "        vertical-align: top;\n",
       "    }\n",
       "\n",
       "    .dataframe thead th {\n",
       "        text-align: right;\n",
       "    }\n",
       "</style>\n",
       "<table border=\"1\" class=\"dataframe\">\n",
       "  <thead>\n",
       "    <tr style=\"text-align: right;\">\n",
       "      <th></th>\n",
       "      <th>artist</th>\n",
       "      <th>spotify_id</th>\n",
       "    </tr>\n",
       "  </thead>\n",
       "  <tbody>\n",
       "    <tr>\n",
       "      <th>0</th>\n",
       "      <td>The Four Preps</td>\n",
       "      <td>5MsnoFODDc5nxWrjm99Zew</td>\n",
       "    </tr>\n",
       "    <tr>\n",
       "      <th>1</th>\n",
       "      <td>Frankie Vaughan</td>\n",
       "      <td>1ihw8Evlq7gPuoHW520STD</td>\n",
       "    </tr>\n",
       "    <tr>\n",
       "      <th>2</th>\n",
       "      <td>Chuck Berry</td>\n",
       "      <td>293zczrfYafIItmnmM3coR</td>\n",
       "    </tr>\n",
       "    <tr>\n",
       "      <th>3</th>\n",
       "      <td>The Ames Brothers</td>\n",
       "      <td>4oXaAEofJFedGweFqy5qiv</td>\n",
       "    </tr>\n",
       "    <tr>\n",
       "      <th>4</th>\n",
       "      <td>David Seville</td>\n",
       "      <td>4NI5R1DbX27ODY5JTqnv2l</td>\n",
       "    </tr>\n",
       "  </tbody>\n",
       "</table>\n",
       "</div>"
      ],
      "text/plain": [
       "              artist              spotify_id\n",
       "0     The Four Preps  5MsnoFODDc5nxWrjm99Zew\n",
       "1    Frankie Vaughan  1ihw8Evlq7gPuoHW520STD\n",
       "2        Chuck Berry  293zczrfYafIItmnmM3coR\n",
       "3  The Ames Brothers  4oXaAEofJFedGweFqy5qiv\n",
       "4      David Seville  4NI5R1DbX27ODY5JTqnv2l"
      ]
     },
     "execution_count": 143,
     "metadata": {},
     "output_type": "execute_result"
    }
   ],
   "source": [
    "artist_ids.head()"
   ]
  },
  {
   "cell_type": "code",
   "execution_count": 135,
   "id": "66afa751-7081-4b77-862f-9ad589c341b7",
   "metadata": {},
   "outputs": [
    {
     "data": {
      "text/plain": [
       "7115"
      ]
     },
     "execution_count": 135,
     "metadata": {},
     "output_type": "execute_result"
    }
   ],
   "source": [
    "len(artist_ids)"
   ]
  },
  {
   "cell_type": "code",
   "execution_count": 115,
   "id": "c3d6a60a-d77b-4032-8aed-d9844a87be83",
   "metadata": {},
   "outputs": [],
   "source": [
    "artist_ids.rename(columns={'index':'artist', 0:'spotify_id'}, inplace=True)"
   ]
  },
  {
   "cell_type": "code",
   "execution_count": 117,
   "id": "22a45b6e-0ed6-4508-9eab-10855f24b598",
   "metadata": {},
   "outputs": [],
   "source": [
    "from pathlib import Path\n",
    "filepath = Path(\"./data/artist_ids.csv\")\n",
    "artist_ids.to_csv(filepath)"
   ]
  },
  {
   "cell_type": "code",
   "execution_count": 3,
   "id": "4e8ead47-cb49-4003-a65c-afb103a09887",
   "metadata": {},
   "outputs": [],
   "source": [
    "artist_ids = pd.read_csv(\"./data/artist_ids.csv\")"
   ]
  },
  {
   "cell_type": "code",
   "execution_count": 4,
   "id": "c1fd5ae7-2587-43e4-8873-70b4aa40b032",
   "metadata": {},
   "outputs": [],
   "source": [
    "artist_ids.drop(columns=[\"Unnamed: 0\"], inplace = True, axis=1)"
   ]
  },
  {
   "cell_type": "code",
   "execution_count": 5,
   "id": "64869cb2-cc97-40f9-8a3a-852a632c78fb",
   "metadata": {},
   "outputs": [
    {
     "data": {
      "text/html": [
       "<div>\n",
       "<style scoped>\n",
       "    .dataframe tbody tr th:only-of-type {\n",
       "        vertical-align: middle;\n",
       "    }\n",
       "\n",
       "    .dataframe tbody tr th {\n",
       "        vertical-align: top;\n",
       "    }\n",
       "\n",
       "    .dataframe thead th {\n",
       "        text-align: right;\n",
       "    }\n",
       "</style>\n",
       "<table border=\"1\" class=\"dataframe\">\n",
       "  <thead>\n",
       "    <tr style=\"text-align: right;\">\n",
       "      <th></th>\n",
       "      <th>artist</th>\n",
       "      <th>spotify_id</th>\n",
       "    </tr>\n",
       "  </thead>\n",
       "  <tbody>\n",
       "    <tr>\n",
       "      <th>0</th>\n",
       "      <td>The Four Preps</td>\n",
       "      <td>5MsnoFODDc5nxWrjm99Zew</td>\n",
       "    </tr>\n",
       "    <tr>\n",
       "      <th>1</th>\n",
       "      <td>Frankie Vaughan</td>\n",
       "      <td>1ihw8Evlq7gPuoHW520STD</td>\n",
       "    </tr>\n",
       "    <tr>\n",
       "      <th>2</th>\n",
       "      <td>Chuck Berry</td>\n",
       "      <td>293zczrfYafIItmnmM3coR</td>\n",
       "    </tr>\n",
       "    <tr>\n",
       "      <th>3</th>\n",
       "      <td>The Ames Brothers</td>\n",
       "      <td>4oXaAEofJFedGweFqy5qiv</td>\n",
       "    </tr>\n",
       "    <tr>\n",
       "      <th>4</th>\n",
       "      <td>David Seville</td>\n",
       "      <td>4NI5R1DbX27ODY5JTqnv2l</td>\n",
       "    </tr>\n",
       "  </tbody>\n",
       "</table>\n",
       "</div>"
      ],
      "text/plain": [
       "              artist              spotify_id\n",
       "0     The Four Preps  5MsnoFODDc5nxWrjm99Zew\n",
       "1    Frankie Vaughan  1ihw8Evlq7gPuoHW520STD\n",
       "2        Chuck Berry  293zczrfYafIItmnmM3coR\n",
       "3  The Ames Brothers  4oXaAEofJFedGweFqy5qiv\n",
       "4      David Seville  4NI5R1DbX27ODY5JTqnv2l"
      ]
     },
     "execution_count": 5,
     "metadata": {},
     "output_type": "execute_result"
    }
   ],
   "source": [
    "artist_ids.head()"
   ]
  },
  {
   "cell_type": "code",
   "execution_count": 22,
   "id": "f9a990d8-5428-4d38-92cd-e1fbd27f7ae7",
   "metadata": {},
   "outputs": [],
   "source": [
    "def spotify_artist_genres(artist_spotify_id):\n",
    "    sp = spotipy.Spotify(auth_manager=SpotifyClientCredentials(client_id=\"353cbd9851824c55a3db2c2cc9a6ddf9\",\n",
    "                                                           client_secret=\"c9d4c1084de74b8aa6aa3a713b2219c8\"))\n",
    "    \n",
    "    result = sp.artist(artist_spotify_id)\n",
    "    genres = result['genres']\n",
    "    return genres"
   ]
  },
  {
   "cell_type": "code",
   "execution_count": 23,
   "id": "7c2d82ee-1455-4718-a381-c0b2a73e41cd",
   "metadata": {},
   "outputs": [
    {
     "data": {
      "text/plain": [
       "['deep adult standards', 'merseybeat', 'rock-and-roll']"
      ]
     },
     "execution_count": 23,
     "metadata": {},
     "output_type": "execute_result"
    }
   ],
   "source": [
    "spotify_artist_genres(\"1ihw8Evlq7gPuoHW520STD\")"
   ]
  },
  {
   "cell_type": "code",
   "execution_count": 24,
   "id": "a96bda35-1a6c-459b-b3df-a28b378347cf",
   "metadata": {},
   "outputs": [
    {
     "name": "stderr",
     "output_type": "stream",
     "text": [
      "100%|██████████| 7115/7115 [16:20<00:00,  7.25it/s]\n"
     ]
    }
   ],
   "source": [
    "res_genres = {}\n",
    "exceptions_genres = []\n",
    "\n",
    "for i, row in tqdm(artist_ids.iterrows(), total=len(artist_ids)):\n",
    "    try:\n",
    "        artist = row['artist']\n",
    "        artist_spotify_id = row['spotify_id']\n",
    "        genres = spotify_artist_genres(artist_spotify_id)\n",
    "        res_genres[artist] = genres\n",
    "    except:\n",
    "        exceptions_genres.append(artist)"
   ]
  },
  {
   "cell_type": "code",
   "execution_count": 31,
   "id": "12db7eb5-6c5d-4a1e-8093-2f2936df86e4",
   "metadata": {},
   "outputs": [],
   "source": [
    "artist_and_genres = pd.DataFrame.from_dict(res_genres, orient='index').reset_index()"
   ]
  },
  {
   "cell_type": "code",
   "execution_count": 32,
   "id": "c41bed3e-c70e-4ffe-9ac6-52e303cce03c",
   "metadata": {},
   "outputs": [],
   "source": [
    "artist_and_genres.rename(columns={'index':'artist'}, inplace=True)"
   ]
  },
  {
   "cell_type": "code",
   "execution_count": 33,
   "id": "e9029449-e4f6-4ede-b1ab-cf691f9ea387",
   "metadata": {},
   "outputs": [
    {
     "data": {
      "text/html": [
       "<div>\n",
       "<style scoped>\n",
       "    .dataframe tbody tr th:only-of-type {\n",
       "        vertical-align: middle;\n",
       "    }\n",
       "\n",
       "    .dataframe tbody tr th {\n",
       "        vertical-align: top;\n",
       "    }\n",
       "\n",
       "    .dataframe thead th {\n",
       "        text-align: right;\n",
       "    }\n",
       "</style>\n",
       "<table border=\"1\" class=\"dataframe\">\n",
       "  <thead>\n",
       "    <tr style=\"text-align: right;\">\n",
       "      <th></th>\n",
       "      <th>artist</th>\n",
       "      <th>0</th>\n",
       "      <th>1</th>\n",
       "      <th>2</th>\n",
       "      <th>3</th>\n",
       "      <th>4</th>\n",
       "      <th>5</th>\n",
       "      <th>6</th>\n",
       "      <th>7</th>\n",
       "      <th>8</th>\n",
       "      <th>9</th>\n",
       "      <th>10</th>\n",
       "      <th>11</th>\n",
       "      <th>12</th>\n",
       "      <th>13</th>\n",
       "      <th>14</th>\n",
       "    </tr>\n",
       "  </thead>\n",
       "  <tbody>\n",
       "    <tr>\n",
       "      <th>0</th>\n",
       "      <td>The Four Preps</td>\n",
       "      <td>deep adult standards</td>\n",
       "      <td>doo-wop</td>\n",
       "      <td>vocal harmony group</td>\n",
       "      <td>None</td>\n",
       "      <td>None</td>\n",
       "      <td>None</td>\n",
       "      <td>None</td>\n",
       "      <td>None</td>\n",
       "      <td>None</td>\n",
       "      <td>None</td>\n",
       "      <td>None</td>\n",
       "      <td>None</td>\n",
       "      <td>None</td>\n",
       "      <td>None</td>\n",
       "      <td>None</td>\n",
       "    </tr>\n",
       "    <tr>\n",
       "      <th>1</th>\n",
       "      <td>Frankie Vaughan</td>\n",
       "      <td>deep adult standards</td>\n",
       "      <td>merseybeat</td>\n",
       "      <td>rock-and-roll</td>\n",
       "      <td>None</td>\n",
       "      <td>None</td>\n",
       "      <td>None</td>\n",
       "      <td>None</td>\n",
       "      <td>None</td>\n",
       "      <td>None</td>\n",
       "      <td>None</td>\n",
       "      <td>None</td>\n",
       "      <td>None</td>\n",
       "      <td>None</td>\n",
       "      <td>None</td>\n",
       "      <td>None</td>\n",
       "    </tr>\n",
       "    <tr>\n",
       "      <th>2</th>\n",
       "      <td>Chuck Berry</td>\n",
       "      <td>blues rock</td>\n",
       "      <td>classic rock</td>\n",
       "      <td>rock</td>\n",
       "      <td>rock-and-roll</td>\n",
       "      <td>rockabilly</td>\n",
       "      <td>None</td>\n",
       "      <td>None</td>\n",
       "      <td>None</td>\n",
       "      <td>None</td>\n",
       "      <td>None</td>\n",
       "      <td>None</td>\n",
       "      <td>None</td>\n",
       "      <td>None</td>\n",
       "      <td>None</td>\n",
       "      <td>None</td>\n",
       "    </tr>\n",
       "    <tr>\n",
       "      <th>3</th>\n",
       "      <td>The Ames Brothers</td>\n",
       "      <td>adult standards</td>\n",
       "      <td>deep adult standards</td>\n",
       "      <td>vocal harmony group</td>\n",
       "      <td>None</td>\n",
       "      <td>None</td>\n",
       "      <td>None</td>\n",
       "      <td>None</td>\n",
       "      <td>None</td>\n",
       "      <td>None</td>\n",
       "      <td>None</td>\n",
       "      <td>None</td>\n",
       "      <td>None</td>\n",
       "      <td>None</td>\n",
       "      <td>None</td>\n",
       "      <td>None</td>\n",
       "    </tr>\n",
       "    <tr>\n",
       "      <th>4</th>\n",
       "      <td>David Seville</td>\n",
       "      <td>novelty</td>\n",
       "      <td>None</td>\n",
       "      <td>None</td>\n",
       "      <td>None</td>\n",
       "      <td>None</td>\n",
       "      <td>None</td>\n",
       "      <td>None</td>\n",
       "      <td>None</td>\n",
       "      <td>None</td>\n",
       "      <td>None</td>\n",
       "      <td>None</td>\n",
       "      <td>None</td>\n",
       "      <td>None</td>\n",
       "      <td>None</td>\n",
       "      <td>None</td>\n",
       "    </tr>\n",
       "  </tbody>\n",
       "</table>\n",
       "</div>"
      ],
      "text/plain": [
       "              artist                     0                     1  \\\n",
       "0     The Four Preps  deep adult standards               doo-wop   \n",
       "1    Frankie Vaughan  deep adult standards            merseybeat   \n",
       "2        Chuck Berry            blues rock          classic rock   \n",
       "3  The Ames Brothers       adult standards  deep adult standards   \n",
       "4      David Seville               novelty                  None   \n",
       "\n",
       "                     2              3           4     5     6     7     8  \\\n",
       "0  vocal harmony group           None        None  None  None  None  None   \n",
       "1        rock-and-roll           None        None  None  None  None  None   \n",
       "2                 rock  rock-and-roll  rockabilly  None  None  None  None   \n",
       "3  vocal harmony group           None        None  None  None  None  None   \n",
       "4                 None           None        None  None  None  None  None   \n",
       "\n",
       "      9    10    11    12    13    14  \n",
       "0  None  None  None  None  None  None  \n",
       "1  None  None  None  None  None  None  \n",
       "2  None  None  None  None  None  None  \n",
       "3  None  None  None  None  None  None  \n",
       "4  None  None  None  None  None  None  "
      ]
     },
     "execution_count": 33,
     "metadata": {},
     "output_type": "execute_result"
    }
   ],
   "source": [
    "artist_and_genres.head()"
   ]
  },
  {
   "cell_type": "code",
   "execution_count": 34,
   "id": "953d44f8-cbd6-4afa-9160-4aea75eb9ffc",
   "metadata": {
    "collapsed": true,
    "jupyter": {
     "outputs_hidden": true
    },
    "tags": []
   },
   "outputs": [
    {
     "data": {
      "text/html": [
       "<div>\n",
       "<style scoped>\n",
       "    .dataframe tbody tr th:only-of-type {\n",
       "        vertical-align: middle;\n",
       "    }\n",
       "\n",
       "    .dataframe tbody tr th {\n",
       "        vertical-align: top;\n",
       "    }\n",
       "\n",
       "    .dataframe thead th {\n",
       "        text-align: right;\n",
       "    }\n",
       "</style>\n",
       "<table border=\"1\" class=\"dataframe\">\n",
       "  <thead>\n",
       "    <tr style=\"text-align: right;\">\n",
       "      <th></th>\n",
       "      <th>artist</th>\n",
       "      <th>0</th>\n",
       "      <th>1</th>\n",
       "      <th>2</th>\n",
       "      <th>3</th>\n",
       "      <th>4</th>\n",
       "      <th>5</th>\n",
       "      <th>6</th>\n",
       "      <th>7</th>\n",
       "      <th>8</th>\n",
       "      <th>9</th>\n",
       "      <th>10</th>\n",
       "      <th>11</th>\n",
       "      <th>12</th>\n",
       "      <th>13</th>\n",
       "      <th>14</th>\n",
       "      <th>spotify_id</th>\n",
       "    </tr>\n",
       "  </thead>\n",
       "  <tbody>\n",
       "    <tr>\n",
       "      <th>0</th>\n",
       "      <td>The Four Preps</td>\n",
       "      <td>deep adult standards</td>\n",
       "      <td>doo-wop</td>\n",
       "      <td>vocal harmony group</td>\n",
       "      <td>None</td>\n",
       "      <td>None</td>\n",
       "      <td>None</td>\n",
       "      <td>None</td>\n",
       "      <td>None</td>\n",
       "      <td>None</td>\n",
       "      <td>None</td>\n",
       "      <td>None</td>\n",
       "      <td>None</td>\n",
       "      <td>None</td>\n",
       "      <td>None</td>\n",
       "      <td>None</td>\n",
       "      <td>5MsnoFODDc5nxWrjm99Zew</td>\n",
       "    </tr>\n",
       "    <tr>\n",
       "      <th>1</th>\n",
       "      <td>Frankie Vaughan</td>\n",
       "      <td>deep adult standards</td>\n",
       "      <td>merseybeat</td>\n",
       "      <td>rock-and-roll</td>\n",
       "      <td>None</td>\n",
       "      <td>None</td>\n",
       "      <td>None</td>\n",
       "      <td>None</td>\n",
       "      <td>None</td>\n",
       "      <td>None</td>\n",
       "      <td>None</td>\n",
       "      <td>None</td>\n",
       "      <td>None</td>\n",
       "      <td>None</td>\n",
       "      <td>None</td>\n",
       "      <td>None</td>\n",
       "      <td>1ihw8Evlq7gPuoHW520STD</td>\n",
       "    </tr>\n",
       "    <tr>\n",
       "      <th>2</th>\n",
       "      <td>Chuck Berry</td>\n",
       "      <td>blues rock</td>\n",
       "      <td>classic rock</td>\n",
       "      <td>rock</td>\n",
       "      <td>rock-and-roll</td>\n",
       "      <td>rockabilly</td>\n",
       "      <td>None</td>\n",
       "      <td>None</td>\n",
       "      <td>None</td>\n",
       "      <td>None</td>\n",
       "      <td>None</td>\n",
       "      <td>None</td>\n",
       "      <td>None</td>\n",
       "      <td>None</td>\n",
       "      <td>None</td>\n",
       "      <td>None</td>\n",
       "      <td>293zczrfYafIItmnmM3coR</td>\n",
       "    </tr>\n",
       "    <tr>\n",
       "      <th>3</th>\n",
       "      <td>The Ames Brothers</td>\n",
       "      <td>adult standards</td>\n",
       "      <td>deep adult standards</td>\n",
       "      <td>vocal harmony group</td>\n",
       "      <td>None</td>\n",
       "      <td>None</td>\n",
       "      <td>None</td>\n",
       "      <td>None</td>\n",
       "      <td>None</td>\n",
       "      <td>None</td>\n",
       "      <td>None</td>\n",
       "      <td>None</td>\n",
       "      <td>None</td>\n",
       "      <td>None</td>\n",
       "      <td>None</td>\n",
       "      <td>None</td>\n",
       "      <td>4oXaAEofJFedGweFqy5qiv</td>\n",
       "    </tr>\n",
       "    <tr>\n",
       "      <th>4</th>\n",
       "      <td>David Seville</td>\n",
       "      <td>novelty</td>\n",
       "      <td>None</td>\n",
       "      <td>None</td>\n",
       "      <td>None</td>\n",
       "      <td>None</td>\n",
       "      <td>None</td>\n",
       "      <td>None</td>\n",
       "      <td>None</td>\n",
       "      <td>None</td>\n",
       "      <td>None</td>\n",
       "      <td>None</td>\n",
       "      <td>None</td>\n",
       "      <td>None</td>\n",
       "      <td>None</td>\n",
       "      <td>None</td>\n",
       "      <td>4NI5R1DbX27ODY5JTqnv2l</td>\n",
       "    </tr>\n",
       "    <tr>\n",
       "      <th>...</th>\n",
       "      <td>...</td>\n",
       "      <td>...</td>\n",
       "      <td>...</td>\n",
       "      <td>...</td>\n",
       "      <td>...</td>\n",
       "      <td>...</td>\n",
       "      <td>...</td>\n",
       "      <td>...</td>\n",
       "      <td>...</td>\n",
       "      <td>...</td>\n",
       "      <td>...</td>\n",
       "      <td>...</td>\n",
       "      <td>...</td>\n",
       "      <td>...</td>\n",
       "      <td>...</td>\n",
       "      <td>...</td>\n",
       "      <td>...</td>\n",
       "    </tr>\n",
       "    <tr>\n",
       "      <th>7110</th>\n",
       "      <td>d4vd</td>\n",
       "      <td>bedroom pop</td>\n",
       "      <td>None</td>\n",
       "      <td>None</td>\n",
       "      <td>None</td>\n",
       "      <td>None</td>\n",
       "      <td>None</td>\n",
       "      <td>None</td>\n",
       "      <td>None</td>\n",
       "      <td>None</td>\n",
       "      <td>None</td>\n",
       "      <td>None</td>\n",
       "      <td>None</td>\n",
       "      <td>None</td>\n",
       "      <td>None</td>\n",
       "      <td>None</td>\n",
       "      <td>5y8tKLUfMvliMe8IKamR32</td>\n",
       "    </tr>\n",
       "    <tr>\n",
       "      <th>7111</th>\n",
       "      <td>Sam Smith &amp; Kim Petras</td>\n",
       "      <td>pop</td>\n",
       "      <td>uk pop</td>\n",
       "      <td>None</td>\n",
       "      <td>None</td>\n",
       "      <td>None</td>\n",
       "      <td>None</td>\n",
       "      <td>None</td>\n",
       "      <td>None</td>\n",
       "      <td>None</td>\n",
       "      <td>None</td>\n",
       "      <td>None</td>\n",
       "      <td>None</td>\n",
       "      <td>None</td>\n",
       "      <td>None</td>\n",
       "      <td>None</td>\n",
       "      <td>2wY79sveU1sp5g7SokKOiI</td>\n",
       "    </tr>\n",
       "    <tr>\n",
       "      <th>7112</th>\n",
       "      <td>Metro Boomin, The Weeknd &amp; 21 Savage</td>\n",
       "      <td>rap</td>\n",
       "      <td>None</td>\n",
       "      <td>None</td>\n",
       "      <td>None</td>\n",
       "      <td>None</td>\n",
       "      <td>None</td>\n",
       "      <td>None</td>\n",
       "      <td>None</td>\n",
       "      <td>None</td>\n",
       "      <td>None</td>\n",
       "      <td>None</td>\n",
       "      <td>None</td>\n",
       "      <td>None</td>\n",
       "      <td>None</td>\n",
       "      <td>None</td>\n",
       "      <td>0iEtIxbK0KxaSlF7G42ZOp</td>\n",
       "    </tr>\n",
       "    <tr>\n",
       "      <th>7113</th>\n",
       "      <td>Stephen Sanchez</td>\n",
       "      <td>gen z singer-songwriter</td>\n",
       "      <td>pop</td>\n",
       "      <td>None</td>\n",
       "      <td>None</td>\n",
       "      <td>None</td>\n",
       "      <td>None</td>\n",
       "      <td>None</td>\n",
       "      <td>None</td>\n",
       "      <td>None</td>\n",
       "      <td>None</td>\n",
       "      <td>None</td>\n",
       "      <td>None</td>\n",
       "      <td>None</td>\n",
       "      <td>None</td>\n",
       "      <td>None</td>\n",
       "      <td>5XKFrudbV4IiuE5WuTPRmT</td>\n",
       "    </tr>\n",
       "    <tr>\n",
       "      <th>7114</th>\n",
       "      <td>Perry Como And The Fontane Sisters With Mitche...</td>\n",
       "      <td>adult standards</td>\n",
       "      <td>easy listening</td>\n",
       "      <td>lounge</td>\n",
       "      <td>None</td>\n",
       "      <td>None</td>\n",
       "      <td>None</td>\n",
       "      <td>None</td>\n",
       "      <td>None</td>\n",
       "      <td>None</td>\n",
       "      <td>None</td>\n",
       "      <td>None</td>\n",
       "      <td>None</td>\n",
       "      <td>None</td>\n",
       "      <td>None</td>\n",
       "      <td>None</td>\n",
       "      <td>5v8jlSmAQfrkTjAlpUfWtu</td>\n",
       "    </tr>\n",
       "  </tbody>\n",
       "</table>\n",
       "<p>7115 rows × 17 columns</p>\n",
       "</div>"
      ],
      "text/plain": [
       "                                                 artist  \\\n",
       "0                                        The Four Preps   \n",
       "1                                       Frankie Vaughan   \n",
       "2                                           Chuck Berry   \n",
       "3                                     The Ames Brothers   \n",
       "4                                         David Seville   \n",
       "...                                                 ...   \n",
       "7110                                               d4vd   \n",
       "7111                             Sam Smith & Kim Petras   \n",
       "7112               Metro Boomin, The Weeknd & 21 Savage   \n",
       "7113                                    Stephen Sanchez   \n",
       "7114  Perry Como And The Fontane Sisters With Mitche...   \n",
       "\n",
       "                            0                     1                    2  \\\n",
       "0        deep adult standards               doo-wop  vocal harmony group   \n",
       "1        deep adult standards            merseybeat        rock-and-roll   \n",
       "2                  blues rock          classic rock                 rock   \n",
       "3             adult standards  deep adult standards  vocal harmony group   \n",
       "4                     novelty                  None                 None   \n",
       "...                       ...                   ...                  ...   \n",
       "7110              bedroom pop                  None                 None   \n",
       "7111                      pop                uk pop                 None   \n",
       "7112                      rap                  None                 None   \n",
       "7113  gen z singer-songwriter                   pop                 None   \n",
       "7114          adult standards        easy listening               lounge   \n",
       "\n",
       "                  3           4     5     6     7     8     9    10    11  \\\n",
       "0              None        None  None  None  None  None  None  None  None   \n",
       "1              None        None  None  None  None  None  None  None  None   \n",
       "2     rock-and-roll  rockabilly  None  None  None  None  None  None  None   \n",
       "3              None        None  None  None  None  None  None  None  None   \n",
       "4              None        None  None  None  None  None  None  None  None   \n",
       "...             ...         ...   ...   ...   ...   ...   ...   ...   ...   \n",
       "7110           None        None  None  None  None  None  None  None  None   \n",
       "7111           None        None  None  None  None  None  None  None  None   \n",
       "7112           None        None  None  None  None  None  None  None  None   \n",
       "7113           None        None  None  None  None  None  None  None  None   \n",
       "7114           None        None  None  None  None  None  None  None  None   \n",
       "\n",
       "        12    13    14              spotify_id  \n",
       "0     None  None  None  5MsnoFODDc5nxWrjm99Zew  \n",
       "1     None  None  None  1ihw8Evlq7gPuoHW520STD  \n",
       "2     None  None  None  293zczrfYafIItmnmM3coR  \n",
       "3     None  None  None  4oXaAEofJFedGweFqy5qiv  \n",
       "4     None  None  None  4NI5R1DbX27ODY5JTqnv2l  \n",
       "...    ...   ...   ...                     ...  \n",
       "7110  None  None  None  5y8tKLUfMvliMe8IKamR32  \n",
       "7111  None  None  None  2wY79sveU1sp5g7SokKOiI  \n",
       "7112  None  None  None  0iEtIxbK0KxaSlF7G42ZOp  \n",
       "7113  None  None  None  5XKFrudbV4IiuE5WuTPRmT  \n",
       "7114  None  None  None  5v8jlSmAQfrkTjAlpUfWtu  \n",
       "\n",
       "[7115 rows x 17 columns]"
      ]
     },
     "execution_count": 34,
     "metadata": {},
     "output_type": "execute_result"
    }
   ],
   "source": [
    "artist_and_genres.merge(artist_ids, right_on = 'artist', left_on= 'artist')"
   ]
  },
  {
   "cell_type": "code",
   "execution_count": 36,
   "id": "6a1b0d48-bf27-41a6-8577-ebdb1030eb48",
   "metadata": {},
   "outputs": [],
   "source": [
    "from pathlib import Path\n",
    "filepath2 = Path(\"./data/artist_and_genres.csv\")\n",
    "artist_and_genres.to_csv(filepath2)"
   ]
  },
  {
   "cell_type": "code",
   "execution_count": 37,
   "id": "900da394-2066-4387-95bf-9844d51909c9",
   "metadata": {},
   "outputs": [
    {
     "name": "stdout",
     "output_type": "stream",
     "text": [
      "<class 'pandas.core.frame.DataFrame'>\n",
      "RangeIndex: 7115 entries, 0 to 7114\n",
      "Data columns (total 16 columns):\n",
      " #   Column  Non-Null Count  Dtype \n",
      "---  ------  --------------  ----- \n",
      " 0   artist  7115 non-null   object\n",
      " 1   0       5779 non-null   object\n",
      " 2   1       4502 non-null   object\n",
      " 3   2       3605 non-null   object\n",
      " 4   3       2703 non-null   object\n",
      " 5   4       1987 non-null   object\n",
      " 6   5       1418 non-null   object\n",
      " 7   6       930 non-null    object\n",
      " 8   7       569 non-null    object\n",
      " 9   8       337 non-null    object\n",
      " 10  9       195 non-null    object\n",
      " 11  10      119 non-null    object\n",
      " 12  11      67 non-null     object\n",
      " 13  12      42 non-null     object\n",
      " 14  13      16 non-null     object\n",
      " 15  14      6 non-null      object\n",
      "dtypes: object(16)\n",
      "memory usage: 889.5+ KB\n"
     ]
    }
   ],
   "source": [
    "artist_and_genres.info()"
   ]
  },
  {
   "cell_type": "code",
   "execution_count": 43,
   "id": "ae21993d-acd4-4ed8-aa2b-07af45d8d5a4",
   "metadata": {},
   "outputs": [
    {
     "name": "stdout",
     "output_type": "stream",
     "text": [
      "814\n",
      "669\n",
      "533\n"
     ]
    }
   ],
   "source": [
    "print(artist_and_genres[0].nunique())\n",
    "print(artist_and_genres[1].nunique())\n",
    "print(artist_and_genres[2].nunique())"
   ]
  }
 ],
 "metadata": {
  "kernelspec": {
   "display_name": "Python 3 (ipykernel)",
   "language": "python",
   "name": "python3"
  },
  "language_info": {
   "codemirror_mode": {
    "name": "ipython",
    "version": 3
   },
   "file_extension": ".py",
   "mimetype": "text/x-python",
   "name": "python",
   "nbconvert_exporter": "python",
   "pygments_lexer": "ipython3",
   "version": "3.9.12"
  }
 },
 "nbformat": 4,
 "nbformat_minor": 5
}
